{
 "cells": [
  {
   "cell_type": "markdown",
   "metadata": {},
   "source": [
    "<img src = \"../../Data/bgsedsc_0.jpg\">"
   ]
  },
  {
   "cell_type": "markdown",
   "metadata": {},
   "source": [
    "# Project: Decision trees"
   ]
  },
  {
   "cell_type": "markdown",
   "metadata": {},
   "source": [
    "## Programming project: length of stay\n",
    "\n",
    "In this project, you have to predict the length of stay (in days) of a patient that is entering an ICU (Intensive Care Unit) using decision tree models.\n",
    "\n",
    "The dataset comes from MIMIC project (https://mimic.physionet.org/). MIMIC-III (Medical Information Mart for Intensive Care III) is a large, freely-available database comprising deidentified health-related data associated with over forty thousand patients who stayed in critical care units of the Beth Israel Deaconess Medical Center between 2001 and 2012.\n",
    "\n",
    "Each row of *mimic_train.csv* correponds to one ICU stay (*hadm_id*+*icustay_id*) of one patient (*subject_id*). Column *LOS* is the length of stay of this patient, equal to discharge time minus admit time.\n",
    "The remaining columns correspond to vitals of each patient (when entering the ICU), plus some general characteristics (age, gender, etc.), and their explanation can be found at *mimic_patient_metadata.csv*.\n",
    "Please don't use any feature that you infer you don't know the first day of a patient in an ICU.\n",
    "\n",
    "Note that the main cause/disease of patient contidition is embedded as a code at *ICD9_diagnosis* column. The meaning of this code can be found at *MIMIC_metadata_diagnose.csv*. **But** this is only the main one; a patient can have co-occurrent diseases (comorbidities). These secondary codes can be found at *extra_data/MIMIC_diagnoses.csv*.\n",
    "\n",
    "Don't use features that you don't know the first day a patient enters the ICU, such as *HOSPITAL_EXPIRE_FLAG*\n",
    "\n",
    "As performance metric, please use *RMSE* (root mean squared error).\n",
    "\n",
    "Main tasks are:\n",
    "+ Using *mimic_train.csv* file build a predictive model for *LOS* .\n",
    "+ For this analysis there is an extra test dataset, *mimic_test_los.csv*. Apply your final model to this extra dataset and generate predictions following the same format as *mimic_kaggle_los_sample_submission.csv*. Once ready, you can submit to our Kaggle competition and iterate to improve the accuracy.\n",
    "\n",
    "As a *bonus*, try different decision trees algorithms, even combine with other prediction models.  Try to assess which features are more important, and if possible the confidence interval of predictions.\n",
    "\n",
    "You can follow those **steps** in your first implementation:\n",
    "1. *Explore* and understand the dataset. \n",
    "2. Manage missing data.\n",
    "2. Manage categorical features. E.g. create *dummy variables* for relevant categorical features, or build an ad hoc distance function.\n",
    "3. Build a prediction model\n",
    "5. Assess expected accuracy  of previous models using *cross-validation*. \n",
    "6. Predict on the test file, following same preparation steps (missing data, dummies, etc). Remember that you should be able to yield a prediction for all the rows of the test dataset. Submit to Kaggle to check performance.\n",
    "\n",
    "For the in-class assignment, feel free to reduce the training dataset if you experience computational constraints.\n",
    "\n",
    "## Main criteria for IN-CLASS grading\n",
    "The weighting of these components will vary between the in-class and extended projects:\n",
    "+ Code runs - 15%\n",
    "+ Data preparation - 20%\n",
    "+ DT method(s) have been used - 25%\n",
    "+ Length of stay for each test patient is computed - 15%\n",
    "+ Accuracy itself - 15%\n",
    "+ Hyperparameter optimization - 10%\n",
    "+ Neat and understandable code, with some titles and comments - 0%\n",
    "+ Improved methods from what we discussed in class (properly explained/justified) - 0%\n"
   ]
  },
  {
   "cell_type": "code",
   "execution_count": 1,
   "metadata": {},
   "outputs": [
    {
     "data": {
      "text/html": [
       "<div>\n",
       "<style scoped>\n",
       "    .dataframe tbody tr th:only-of-type {\n",
       "        vertical-align: middle;\n",
       "    }\n",
       "\n",
       "    .dataframe tbody tr th {\n",
       "        vertical-align: top;\n",
       "    }\n",
       "\n",
       "    .dataframe thead th {\n",
       "        text-align: right;\n",
       "    }\n",
       "</style>\n",
       "<table border=\"1\" class=\"dataframe\">\n",
       "  <thead>\n",
       "    <tr style=\"text-align: right;\">\n",
       "      <th></th>\n",
       "      <th>HOSPITAL_EXPIRE_FLAG</th>\n",
       "      <th>subject_id</th>\n",
       "      <th>hadm_id</th>\n",
       "      <th>icustay_id</th>\n",
       "      <th>HeartRate_Min</th>\n",
       "      <th>HeartRate_Max</th>\n",
       "      <th>HeartRate_Mean</th>\n",
       "      <th>SysBP_Min</th>\n",
       "      <th>SysBP_Max</th>\n",
       "      <th>SysBP_Mean</th>\n",
       "      <th>...</th>\n",
       "      <th>Diff</th>\n",
       "      <th>ADMISSION_TYPE</th>\n",
       "      <th>INSURANCE</th>\n",
       "      <th>RELIGION</th>\n",
       "      <th>MARITAL_STATUS</th>\n",
       "      <th>ETHNICITY</th>\n",
       "      <th>DIAGNOSIS</th>\n",
       "      <th>ICD9_diagnosis</th>\n",
       "      <th>FIRST_CAREUNIT</th>\n",
       "      <th>LOS</th>\n",
       "    </tr>\n",
       "  </thead>\n",
       "  <tbody>\n",
       "    <tr>\n",
       "      <th>0</th>\n",
       "      <td>0</td>\n",
       "      <td>55440</td>\n",
       "      <td>195768</td>\n",
       "      <td>228357</td>\n",
       "      <td>89.0</td>\n",
       "      <td>145.0</td>\n",
       "      <td>121.043478</td>\n",
       "      <td>74.0</td>\n",
       "      <td>127.0</td>\n",
       "      <td>106.586957</td>\n",
       "      <td>...</td>\n",
       "      <td>-61961.78470</td>\n",
       "      <td>EMERGENCY</td>\n",
       "      <td>Medicare</td>\n",
       "      <td>PROTESTANT QUAKER</td>\n",
       "      <td>SINGLE</td>\n",
       "      <td>WHITE</td>\n",
       "      <td>GASTROINTESTINAL BLEED</td>\n",
       "      <td>5789</td>\n",
       "      <td>MICU</td>\n",
       "      <td>4.5761</td>\n",
       "    </tr>\n",
       "    <tr>\n",
       "      <th>1</th>\n",
       "      <td>0</td>\n",
       "      <td>76908</td>\n",
       "      <td>126136</td>\n",
       "      <td>221004</td>\n",
       "      <td>63.0</td>\n",
       "      <td>110.0</td>\n",
       "      <td>79.117647</td>\n",
       "      <td>89.0</td>\n",
       "      <td>121.0</td>\n",
       "      <td>106.733333</td>\n",
       "      <td>...</td>\n",
       "      <td>-43146.18378</td>\n",
       "      <td>EMERGENCY</td>\n",
       "      <td>Private</td>\n",
       "      <td>UNOBTAINABLE</td>\n",
       "      <td>MARRIED</td>\n",
       "      <td>WHITE</td>\n",
       "      <td>ESOPHAGEAL FOOD IMPACTION</td>\n",
       "      <td>53013</td>\n",
       "      <td>MICU</td>\n",
       "      <td>0.7582</td>\n",
       "    </tr>\n",
       "    <tr>\n",
       "      <th>2</th>\n",
       "      <td>0</td>\n",
       "      <td>95798</td>\n",
       "      <td>136645</td>\n",
       "      <td>296315</td>\n",
       "      <td>81.0</td>\n",
       "      <td>98.0</td>\n",
       "      <td>91.689655</td>\n",
       "      <td>88.0</td>\n",
       "      <td>138.0</td>\n",
       "      <td>112.785714</td>\n",
       "      <td>...</td>\n",
       "      <td>-42009.96157</td>\n",
       "      <td>EMERGENCY</td>\n",
       "      <td>Medicare</td>\n",
       "      <td>PROTESTANT QUAKER</td>\n",
       "      <td>SEPARATED</td>\n",
       "      <td>BLACK/AFRICAN AMERICAN</td>\n",
       "      <td>UPPER GI BLEED</td>\n",
       "      <td>56983</td>\n",
       "      <td>MICU</td>\n",
       "      <td>3.7626</td>\n",
       "    </tr>\n",
       "    <tr>\n",
       "      <th>3</th>\n",
       "      <td>0</td>\n",
       "      <td>40708</td>\n",
       "      <td>102505</td>\n",
       "      <td>245557</td>\n",
       "      <td>76.0</td>\n",
       "      <td>128.0</td>\n",
       "      <td>98.857143</td>\n",
       "      <td>84.0</td>\n",
       "      <td>135.0</td>\n",
       "      <td>106.972973</td>\n",
       "      <td>...</td>\n",
       "      <td>-43585.37922</td>\n",
       "      <td>ELECTIVE</td>\n",
       "      <td>Medicare</td>\n",
       "      <td>NOT SPECIFIED</td>\n",
       "      <td>WIDOWED</td>\n",
       "      <td>WHITE</td>\n",
       "      <td>HIATAL HERNIA/SDA</td>\n",
       "      <td>5533</td>\n",
       "      <td>SICU</td>\n",
       "      <td>3.8734</td>\n",
       "    </tr>\n",
       "    <tr>\n",
       "      <th>4</th>\n",
       "      <td>0</td>\n",
       "      <td>28424</td>\n",
       "      <td>127337</td>\n",
       "      <td>225281</td>\n",
       "      <td>NaN</td>\n",
       "      <td>NaN</td>\n",
       "      <td>NaN</td>\n",
       "      <td>NaN</td>\n",
       "      <td>NaN</td>\n",
       "      <td>NaN</td>\n",
       "      <td>...</td>\n",
       "      <td>-50271.76602</td>\n",
       "      <td>EMERGENCY</td>\n",
       "      <td>Medicare</td>\n",
       "      <td>JEWISH</td>\n",
       "      <td>WIDOWED</td>\n",
       "      <td>WHITE</td>\n",
       "      <td>ABDOMINAL PAIN</td>\n",
       "      <td>56211</td>\n",
       "      <td>TSICU</td>\n",
       "      <td>5.8654</td>\n",
       "    </tr>\n",
       "  </tbody>\n",
       "</table>\n",
       "<p>5 rows × 41 columns</p>\n",
       "</div>"
      ],
      "text/plain": [
       "   HOSPITAL_EXPIRE_FLAG  subject_id  hadm_id  icustay_id  HeartRate_Min  \\\n",
       "0                     0       55440   195768      228357           89.0   \n",
       "1                     0       76908   126136      221004           63.0   \n",
       "2                     0       95798   136645      296315           81.0   \n",
       "3                     0       40708   102505      245557           76.0   \n",
       "4                     0       28424   127337      225281            NaN   \n",
       "\n",
       "   HeartRate_Max  HeartRate_Mean  SysBP_Min  SysBP_Max  SysBP_Mean  ...  \\\n",
       "0          145.0      121.043478       74.0      127.0  106.586957  ...   \n",
       "1          110.0       79.117647       89.0      121.0  106.733333  ...   \n",
       "2           98.0       91.689655       88.0      138.0  112.785714  ...   \n",
       "3          128.0       98.857143       84.0      135.0  106.972973  ...   \n",
       "4            NaN             NaN        NaN        NaN         NaN  ...   \n",
       "\n",
       "          Diff  ADMISSION_TYPE  INSURANCE           RELIGION  MARITAL_STATUS  \\\n",
       "0 -61961.78470       EMERGENCY   Medicare  PROTESTANT QUAKER          SINGLE   \n",
       "1 -43146.18378       EMERGENCY    Private       UNOBTAINABLE         MARRIED   \n",
       "2 -42009.96157       EMERGENCY   Medicare  PROTESTANT QUAKER       SEPARATED   \n",
       "3 -43585.37922        ELECTIVE   Medicare      NOT SPECIFIED         WIDOWED   \n",
       "4 -50271.76602       EMERGENCY   Medicare             JEWISH         WIDOWED   \n",
       "\n",
       "                ETHNICITY                  DIAGNOSIS  ICD9_diagnosis  \\\n",
       "0                   WHITE     GASTROINTESTINAL BLEED            5789   \n",
       "1                   WHITE  ESOPHAGEAL FOOD IMPACTION           53013   \n",
       "2  BLACK/AFRICAN AMERICAN             UPPER GI BLEED           56983   \n",
       "3                   WHITE          HIATAL HERNIA/SDA            5533   \n",
       "4                   WHITE             ABDOMINAL PAIN           56211   \n",
       "\n",
       "   FIRST_CAREUNIT     LOS  \n",
       "0            MICU  4.5761  \n",
       "1            MICU  0.7582  \n",
       "2            MICU  3.7626  \n",
       "3            SICU  3.8734  \n",
       "4           TSICU  5.8654  \n",
       "\n",
       "[5 rows x 41 columns]"
      ]
     },
     "execution_count": 1,
     "metadata": {},
     "output_type": "execute_result"
    }
   ],
   "source": [
    "# Starter code to load data\n",
    "import pandas as pd\n",
    "# Training dataset\n",
    "data=pd.read_csv('Data/mimic_train.csv')\n",
    "data.head()"
   ]
  },
  {
   "cell_type": "code",
   "execution_count": 2,
   "metadata": {},
   "outputs": [
    {
     "data": {
      "text/html": [
       "<div>\n",
       "<style scoped>\n",
       "    .dataframe tbody tr th:only-of-type {\n",
       "        vertical-align: middle;\n",
       "    }\n",
       "\n",
       "    .dataframe tbody tr th {\n",
       "        vertical-align: top;\n",
       "    }\n",
       "\n",
       "    .dataframe thead th {\n",
       "        text-align: right;\n",
       "    }\n",
       "</style>\n",
       "<table border=\"1\" class=\"dataframe\">\n",
       "  <thead>\n",
       "    <tr style=\"text-align: right;\">\n",
       "      <th></th>\n",
       "      <th>subject_id</th>\n",
       "      <th>hadm_id</th>\n",
       "      <th>icustay_id</th>\n",
       "      <th>HeartRate_Min</th>\n",
       "      <th>HeartRate_Max</th>\n",
       "      <th>HeartRate_Mean</th>\n",
       "      <th>SysBP_Min</th>\n",
       "      <th>SysBP_Max</th>\n",
       "      <th>SysBP_Mean</th>\n",
       "      <th>DiasBP_Min</th>\n",
       "      <th>...</th>\n",
       "      <th>ADMITTIME</th>\n",
       "      <th>Diff</th>\n",
       "      <th>ADMISSION_TYPE</th>\n",
       "      <th>INSURANCE</th>\n",
       "      <th>RELIGION</th>\n",
       "      <th>MARITAL_STATUS</th>\n",
       "      <th>ETHNICITY</th>\n",
       "      <th>DIAGNOSIS</th>\n",
       "      <th>ICD9_diagnosis</th>\n",
       "      <th>FIRST_CAREUNIT</th>\n",
       "    </tr>\n",
       "  </thead>\n",
       "  <tbody>\n",
       "    <tr>\n",
       "      <th>4930</th>\n",
       "      <td>93535</td>\n",
       "      <td>121562</td>\n",
       "      <td>200011</td>\n",
       "      <td>56.0</td>\n",
       "      <td>82.0</td>\n",
       "      <td>71.205128</td>\n",
       "      <td>123.0</td>\n",
       "      <td>185.0</td>\n",
       "      <td>156.411765</td>\n",
       "      <td>37.0</td>\n",
       "      <td>...</td>\n",
       "      <td>2188-08-05 20:27:00</td>\n",
       "      <td>-64881.43517</td>\n",
       "      <td>EMERGENCY</td>\n",
       "      <td>Medicare</td>\n",
       "      <td>JEWISH</td>\n",
       "      <td>SINGLE</td>\n",
       "      <td>WHITE</td>\n",
       "      <td>ASTHMA;COPD EXACERBATION</td>\n",
       "      <td>49322</td>\n",
       "      <td>MICU</td>\n",
       "    </tr>\n",
       "    <tr>\n",
       "      <th>1052</th>\n",
       "      <td>30375</td>\n",
       "      <td>177945</td>\n",
       "      <td>200044</td>\n",
       "      <td>NaN</td>\n",
       "      <td>NaN</td>\n",
       "      <td>NaN</td>\n",
       "      <td>NaN</td>\n",
       "      <td>NaN</td>\n",
       "      <td>NaN</td>\n",
       "      <td>NaN</td>\n",
       "      <td>...</td>\n",
       "      <td>2135-07-07 16:13:00</td>\n",
       "      <td>-46540.62661</td>\n",
       "      <td>EMERGENCY</td>\n",
       "      <td>Medicare</td>\n",
       "      <td>CATHOLIC</td>\n",
       "      <td>WIDOWED</td>\n",
       "      <td>WHITE</td>\n",
       "      <td>HEAD BLEED</td>\n",
       "      <td>85220</td>\n",
       "      <td>SICU</td>\n",
       "    </tr>\n",
       "    <tr>\n",
       "      <th>3412</th>\n",
       "      <td>73241</td>\n",
       "      <td>149216</td>\n",
       "      <td>200049</td>\n",
       "      <td>54.0</td>\n",
       "      <td>76.0</td>\n",
       "      <td>64.833333</td>\n",
       "      <td>95.0</td>\n",
       "      <td>167.0</td>\n",
       "      <td>114.545455</td>\n",
       "      <td>33.0</td>\n",
       "      <td>...</td>\n",
       "      <td>2118-08-14 22:27:00</td>\n",
       "      <td>-38956.85890</td>\n",
       "      <td>EMERGENCY</td>\n",
       "      <td>Private</td>\n",
       "      <td>JEWISH</td>\n",
       "      <td>MARRIED</td>\n",
       "      <td>WHITE</td>\n",
       "      <td>HEPATIC ENCEPHALOPATHY</td>\n",
       "      <td>5722</td>\n",
       "      <td>MICU</td>\n",
       "    </tr>\n",
       "    <tr>\n",
       "      <th>1725</th>\n",
       "      <td>99052</td>\n",
       "      <td>129142</td>\n",
       "      <td>200063</td>\n",
       "      <td>85.0</td>\n",
       "      <td>102.0</td>\n",
       "      <td>92.560976</td>\n",
       "      <td>91.0</td>\n",
       "      <td>131.0</td>\n",
       "      <td>108.365854</td>\n",
       "      <td>42.0</td>\n",
       "      <td>...</td>\n",
       "      <td>2141-03-09 23:19:00</td>\n",
       "      <td>-47014.25437</td>\n",
       "      <td>EMERGENCY</td>\n",
       "      <td>Medicaid</td>\n",
       "      <td>NOT SPECIFIED</td>\n",
       "      <td>SINGLE</td>\n",
       "      <td>UNKNOWN/NOT SPECIFIED</td>\n",
       "      <td>TYPE A DISSECTION</td>\n",
       "      <td>44101</td>\n",
       "      <td>CSRU</td>\n",
       "    </tr>\n",
       "    <tr>\n",
       "      <th>981</th>\n",
       "      <td>51698</td>\n",
       "      <td>190004</td>\n",
       "      <td>200081</td>\n",
       "      <td>82.0</td>\n",
       "      <td>133.0</td>\n",
       "      <td>94.323529</td>\n",
       "      <td>86.0</td>\n",
       "      <td>143.0</td>\n",
       "      <td>111.093750</td>\n",
       "      <td>47.0</td>\n",
       "      <td>...</td>\n",
       "      <td>2142-02-23 06:56:00</td>\n",
       "      <td>-47377.26087</td>\n",
       "      <td>EMERGENCY</td>\n",
       "      <td>Medicare</td>\n",
       "      <td>OTHER</td>\n",
       "      <td>MARRIED</td>\n",
       "      <td>PORTUGUESE</td>\n",
       "      <td>PULMONARY EMBOLISM</td>\n",
       "      <td>41519</td>\n",
       "      <td>CCU</td>\n",
       "    </tr>\n",
       "  </tbody>\n",
       "</table>\n",
       "<p>5 rows × 39 columns</p>\n",
       "</div>"
      ],
      "text/plain": [
       "      subject_id  hadm_id  icustay_id  HeartRate_Min  HeartRate_Max  \\\n",
       "4930       93535   121562      200011           56.0           82.0   \n",
       "1052       30375   177945      200044            NaN            NaN   \n",
       "3412       73241   149216      200049           54.0           76.0   \n",
       "1725       99052   129142      200063           85.0          102.0   \n",
       "981        51698   190004      200081           82.0          133.0   \n",
       "\n",
       "      HeartRate_Mean  SysBP_Min  SysBP_Max  SysBP_Mean  DiasBP_Min  ...  \\\n",
       "4930       71.205128      123.0      185.0  156.411765        37.0  ...   \n",
       "1052             NaN        NaN        NaN         NaN         NaN  ...   \n",
       "3412       64.833333       95.0      167.0  114.545455        33.0  ...   \n",
       "1725       92.560976       91.0      131.0  108.365854        42.0  ...   \n",
       "981        94.323529       86.0      143.0  111.093750        47.0  ...   \n",
       "\n",
       "                ADMITTIME         Diff  ADMISSION_TYPE  INSURANCE  \\\n",
       "4930  2188-08-05 20:27:00 -64881.43517       EMERGENCY   Medicare   \n",
       "1052  2135-07-07 16:13:00 -46540.62661       EMERGENCY   Medicare   \n",
       "3412  2118-08-14 22:27:00 -38956.85890       EMERGENCY    Private   \n",
       "1725  2141-03-09 23:19:00 -47014.25437       EMERGENCY   Medicaid   \n",
       "981   2142-02-23 06:56:00 -47377.26087       EMERGENCY   Medicare   \n",
       "\n",
       "           RELIGION  MARITAL_STATUS              ETHNICITY  \\\n",
       "4930         JEWISH          SINGLE                  WHITE   \n",
       "1052       CATHOLIC         WIDOWED                  WHITE   \n",
       "3412         JEWISH         MARRIED                  WHITE   \n",
       "1725  NOT SPECIFIED          SINGLE  UNKNOWN/NOT SPECIFIED   \n",
       "981           OTHER         MARRIED             PORTUGUESE   \n",
       "\n",
       "                     DIAGNOSIS  ICD9_diagnosis  FIRST_CAREUNIT  \n",
       "4930  ASTHMA;COPD EXACERBATION           49322            MICU  \n",
       "1052                HEAD BLEED           85220            SICU  \n",
       "3412    HEPATIC ENCEPHALOPATHY            5722            MICU  \n",
       "1725         TYPE A DISSECTION           44101            CSRU  \n",
       "981         PULMONARY EMBOLISM           41519             CCU  \n",
       "\n",
       "[5 rows x 39 columns]"
      ]
     },
     "execution_count": 2,
     "metadata": {},
     "output_type": "execute_result"
    }
   ],
   "source": [
    "# Test dataset (to produce predictions)\n",
    "data_test=pd.read_csv('Data/mimic_test_los.csv')\n",
    "data_test.sort_values('icustay_id').head()"
   ]
  },
  {
   "cell_type": "code",
   "execution_count": 6,
   "metadata": {},
   "outputs": [],
   "source": [
    "#this is just for not loosing id column. It is necassary for Kaggle upload.\n",
    "test_id=pd.DataFrame()\n",
    "test_id[\"icustay_id\"]=data_test[\"icustay_id\"]"
   ]
  },
  {
   "cell_type": "code",
   "execution_count": 7,
   "metadata": {},
   "outputs": [
    {
     "data": {
      "text/html": [
       "<div>\n",
       "<style scoped>\n",
       "    .dataframe tbody tr th:only-of-type {\n",
       "        vertical-align: middle;\n",
       "    }\n",
       "\n",
       "    .dataframe tbody tr th {\n",
       "        vertical-align: top;\n",
       "    }\n",
       "\n",
       "    .dataframe thead th {\n",
       "        text-align: right;\n",
       "    }\n",
       "</style>\n",
       "<table border=\"1\" class=\"dataframe\">\n",
       "  <thead>\n",
       "    <tr style=\"text-align: right;\">\n",
       "      <th></th>\n",
       "      <th>icustay_id</th>\n",
       "    </tr>\n",
       "  </thead>\n",
       "  <tbody>\n",
       "    <tr>\n",
       "      <th>0</th>\n",
       "      <td>208169</td>\n",
       "    </tr>\n",
       "    <tr>\n",
       "      <th>1</th>\n",
       "      <td>251754</td>\n",
       "    </tr>\n",
       "    <tr>\n",
       "      <th>2</th>\n",
       "      <td>242171</td>\n",
       "    </tr>\n",
       "    <tr>\n",
       "      <th>3</th>\n",
       "      <td>263035</td>\n",
       "    </tr>\n",
       "    <tr>\n",
       "      <th>4</th>\n",
       "      <td>279388</td>\n",
       "    </tr>\n",
       "    <tr>\n",
       "      <th>...</th>\n",
       "      <td>...</td>\n",
       "    </tr>\n",
       "    <tr>\n",
       "      <th>5216</th>\n",
       "      <td>278087</td>\n",
       "    </tr>\n",
       "    <tr>\n",
       "      <th>5217</th>\n",
       "      <td>266914</td>\n",
       "    </tr>\n",
       "    <tr>\n",
       "      <th>5218</th>\n",
       "      <td>213413</td>\n",
       "    </tr>\n",
       "    <tr>\n",
       "      <th>5219</th>\n",
       "      <td>286384</td>\n",
       "    </tr>\n",
       "    <tr>\n",
       "      <th>5220</th>\n",
       "      <td>280741</td>\n",
       "    </tr>\n",
       "  </tbody>\n",
       "</table>\n",
       "<p>5221 rows × 1 columns</p>\n",
       "</div>"
      ],
      "text/plain": [
       "      icustay_id\n",
       "0         208169\n",
       "1         251754\n",
       "2         242171\n",
       "3         263035\n",
       "4         279388\n",
       "...          ...\n",
       "5216      278087\n",
       "5217      266914\n",
       "5218      213413\n",
       "5219      286384\n",
       "5220      280741\n",
       "\n",
       "[5221 rows x 1 columns]"
      ]
     },
     "execution_count": 7,
     "metadata": {},
     "output_type": "execute_result"
    }
   ],
   "source": [
    "test_id"
   ]
  },
  {
   "cell_type": "code",
   "execution_count": 8,
   "metadata": {},
   "outputs": [
    {
     "data": {
      "text/html": [
       "<div>\n",
       "<style scoped>\n",
       "    .dataframe tbody tr th:only-of-type {\n",
       "        vertical-align: middle;\n",
       "    }\n",
       "\n",
       "    .dataframe tbody tr th {\n",
       "        vertical-align: top;\n",
       "    }\n",
       "\n",
       "    .dataframe thead th {\n",
       "        text-align: right;\n",
       "    }\n",
       "</style>\n",
       "<table border=\"1\" class=\"dataframe\">\n",
       "  <thead>\n",
       "    <tr style=\"text-align: right;\">\n",
       "      <th></th>\n",
       "      <th>icustay_id</th>\n",
       "      <th>LOS</th>\n",
       "    </tr>\n",
       "  </thead>\n",
       "  <tbody>\n",
       "    <tr>\n",
       "      <th>663</th>\n",
       "      <td>200011</td>\n",
       "      <td>3.701046</td>\n",
       "    </tr>\n",
       "    <tr>\n",
       "      <th>4608</th>\n",
       "      <td>200044</td>\n",
       "      <td>3.701046</td>\n",
       "    </tr>\n",
       "    <tr>\n",
       "      <th>1186</th>\n",
       "      <td>200049</td>\n",
       "      <td>3.701046</td>\n",
       "    </tr>\n",
       "    <tr>\n",
       "      <th>1245</th>\n",
       "      <td>200063</td>\n",
       "      <td>3.701046</td>\n",
       "    </tr>\n",
       "    <tr>\n",
       "      <th>606</th>\n",
       "      <td>200081</td>\n",
       "      <td>3.701046</td>\n",
       "    </tr>\n",
       "  </tbody>\n",
       "</table>\n",
       "</div>"
      ],
      "text/plain": [
       "      icustay_id       LOS\n",
       "663       200011  3.701046\n",
       "4608      200044  3.701046\n",
       "1186      200049  3.701046\n",
       "1245      200063  3.701046\n",
       "606       200081  3.701046"
      ]
     },
     "execution_count": 8,
     "metadata": {},
     "output_type": "execute_result"
    }
   ],
   "source": [
    "# Sample output prediction file\n",
    "pred_sample=pd.read_csv('Data/mimic_kaggle_los_sample_submission.csv')\n",
    "pred_sample.sort_values('icustay_id').head()"
   ]
  },
  {
   "cell_type": "code",
   "execution_count": 9,
   "metadata": {},
   "outputs": [],
   "source": [
    "import pandas as pd\n",
    "import numpy as np\n",
    "from datetime import datetime, timedelta\n",
    "import seaborn as sns\n",
    "import matplotlib.pyplot as plt\n",
    "from sklearn import preprocessing\n",
    "from sklearn.preprocessing import PolynomialFeatures as plf\n",
    "from sklearn.neighbors import KNeighborsClassifier\n",
    "from sklearn.pipeline import Pipeline\n",
    "from sklearn.model_selection import GridSearchCV, RandomizedSearchCV, cross_val_score\n",
    "from sklearn import metrics\n",
    "from imblearn.over_sampling import RandomOverSampler"
   ]
  },
  {
   "cell_type": "code",
   "execution_count": 10,
   "metadata": {},
   "outputs": [],
   "source": [
    "data[\"visits_ICU\"] = data.sort_values(['subject_id', 'ADMITTIME']).groupby([\"subject_id\"]).cumcount() + 1\n",
    "data_test[\"visits_ICU\"] = data_test.sort_values(['subject_id', 'ADMITTIME']).groupby([\"subject_id\"]).cumcount() + 1"
   ]
  },
  {
   "cell_type": "code",
   "execution_count": 11,
   "metadata": {},
   "outputs": [
    {
     "data": {
      "text/html": [
       "<div>\n",
       "<style scoped>\n",
       "    .dataframe tbody tr th:only-of-type {\n",
       "        vertical-align: middle;\n",
       "    }\n",
       "\n",
       "    .dataframe tbody tr th {\n",
       "        vertical-align: top;\n",
       "    }\n",
       "\n",
       "    .dataframe thead th {\n",
       "        text-align: right;\n",
       "    }\n",
       "</style>\n",
       "<table border=\"1\" class=\"dataframe\">\n",
       "  <thead>\n",
       "    <tr style=\"text-align: right;\">\n",
       "      <th></th>\n",
       "      <th>subject_id</th>\n",
       "      <th>ADMITTIME</th>\n",
       "      <th>visits_ICU</th>\n",
       "    </tr>\n",
       "  </thead>\n",
       "  <tbody>\n",
       "    <tr>\n",
       "      <th>18310</th>\n",
       "      <td>23</td>\n",
       "      <td>2157-10-18 19:34:00</td>\n",
       "      <td>1</td>\n",
       "    </tr>\n",
       "    <tr>\n",
       "      <th>17908</th>\n",
       "      <td>34</td>\n",
       "      <td>2191-02-23 05:23:00</td>\n",
       "      <td>1</td>\n",
       "    </tr>\n",
       "    <tr>\n",
       "      <th>9591</th>\n",
       "      <td>36</td>\n",
       "      <td>2134-05-10 11:30:00</td>\n",
       "      <td>1</td>\n",
       "    </tr>\n",
       "    <tr>\n",
       "      <th>727</th>\n",
       "      <td>85</td>\n",
       "      <td>2167-07-25 18:49:00</td>\n",
       "      <td>1</td>\n",
       "    </tr>\n",
       "    <tr>\n",
       "      <th>16007</th>\n",
       "      <td>109</td>\n",
       "      <td>2141-03-27 21:08:00</td>\n",
       "      <td>1</td>\n",
       "    </tr>\n",
       "    <tr>\n",
       "      <th>13738</th>\n",
       "      <td>109</td>\n",
       "      <td>2141-05-24 14:47:00</td>\n",
       "      <td>2</td>\n",
       "    </tr>\n",
       "    <tr>\n",
       "      <th>4002</th>\n",
       "      <td>109</td>\n",
       "      <td>2141-09-05 20:04:00</td>\n",
       "      <td>3</td>\n",
       "    </tr>\n",
       "    <tr>\n",
       "      <th>12883</th>\n",
       "      <td>109</td>\n",
       "      <td>2141-09-11 10:12:00</td>\n",
       "      <td>4</td>\n",
       "    </tr>\n",
       "    <tr>\n",
       "      <th>17983</th>\n",
       "      <td>109</td>\n",
       "      <td>2141-09-18 10:32:00</td>\n",
       "      <td>5</td>\n",
       "    </tr>\n",
       "    <tr>\n",
       "      <th>8222</th>\n",
       "      <td>109</td>\n",
       "      <td>2141-10-13 23:10:00</td>\n",
       "      <td>6</td>\n",
       "    </tr>\n",
       "    <tr>\n",
       "      <th>1283</th>\n",
       "      <td>109</td>\n",
       "      <td>2141-11-18 14:00:00</td>\n",
       "      <td>7</td>\n",
       "    </tr>\n",
       "    <tr>\n",
       "      <th>6733</th>\n",
       "      <td>109</td>\n",
       "      <td>2141-11-24 16:11:00</td>\n",
       "      <td>8</td>\n",
       "    </tr>\n",
       "    <tr>\n",
       "      <th>13431</th>\n",
       "      <td>109</td>\n",
       "      <td>2141-12-08 01:40:00</td>\n",
       "      <td>9</td>\n",
       "    </tr>\n",
       "  </tbody>\n",
       "</table>\n",
       "</div>"
      ],
      "text/plain": [
       "       subject_id            ADMITTIME  visits_ICU\n",
       "18310          23  2157-10-18 19:34:00           1\n",
       "17908          34  2191-02-23 05:23:00           1\n",
       "9591           36  2134-05-10 11:30:00           1\n",
       "727            85  2167-07-25 18:49:00           1\n",
       "16007         109  2141-03-27 21:08:00           1\n",
       "13738         109  2141-05-24 14:47:00           2\n",
       "4002          109  2141-09-05 20:04:00           3\n",
       "12883         109  2141-09-11 10:12:00           4\n",
       "17983         109  2141-09-18 10:32:00           5\n",
       "8222          109  2141-10-13 23:10:00           6\n",
       "1283          109  2141-11-18 14:00:00           7\n",
       "6733          109  2141-11-24 16:11:00           8\n",
       "13431         109  2141-12-08 01:40:00           9"
      ]
     },
     "execution_count": 11,
     "metadata": {},
     "output_type": "execute_result"
    }
   ],
   "source": [
    "data[[\"subject_id\", \"ADMITTIME\", \"visits_ICU\"]].sort_values([\"subject_id\", \"ADMITTIME\"]).iloc[:13]"
   ]
  },
  {
   "cell_type": "code",
   "execution_count": 12,
   "metadata": {},
   "outputs": [
    {
     "data": {
      "text/html": [
       "<div>\n",
       "<style scoped>\n",
       "    .dataframe tbody tr th:only-of-type {\n",
       "        vertical-align: middle;\n",
       "    }\n",
       "\n",
       "    .dataframe tbody tr th {\n",
       "        vertical-align: top;\n",
       "    }\n",
       "\n",
       "    .dataframe thead th {\n",
       "        text-align: right;\n",
       "    }\n",
       "</style>\n",
       "<table border=\"1\" class=\"dataframe\">\n",
       "  <thead>\n",
       "    <tr style=\"text-align: right;\">\n",
       "      <th></th>\n",
       "      <th>SUBJECT_ID</th>\n",
       "      <th>HADM_ID</th>\n",
       "      <th>SEQ_NUM</th>\n",
       "      <th>ICD9_CODE</th>\n",
       "    </tr>\n",
       "  </thead>\n",
       "  <tbody>\n",
       "    <tr>\n",
       "      <th>0</th>\n",
       "      <td>256</td>\n",
       "      <td>108811</td>\n",
       "      <td>1.0</td>\n",
       "      <td>53240</td>\n",
       "    </tr>\n",
       "    <tr>\n",
       "      <th>1</th>\n",
       "      <td>256</td>\n",
       "      <td>108811</td>\n",
       "      <td>2.0</td>\n",
       "      <td>41071</td>\n",
       "    </tr>\n",
       "    <tr>\n",
       "      <th>2</th>\n",
       "      <td>256</td>\n",
       "      <td>108811</td>\n",
       "      <td>3.0</td>\n",
       "      <td>53560</td>\n",
       "    </tr>\n",
       "    <tr>\n",
       "      <th>3</th>\n",
       "      <td>256</td>\n",
       "      <td>108811</td>\n",
       "      <td>4.0</td>\n",
       "      <td>40390</td>\n",
       "    </tr>\n",
       "    <tr>\n",
       "      <th>4</th>\n",
       "      <td>256</td>\n",
       "      <td>108811</td>\n",
       "      <td>5.0</td>\n",
       "      <td>5859</td>\n",
       "    </tr>\n",
       "  </tbody>\n",
       "</table>\n",
       "</div>"
      ],
      "text/plain": [
       "   SUBJECT_ID  HADM_ID  SEQ_NUM ICD9_CODE\n",
       "0         256   108811      1.0     53240\n",
       "1         256   108811      2.0     41071\n",
       "2         256   108811      3.0     53560\n",
       "3         256   108811      4.0     40390\n",
       "4         256   108811      5.0      5859"
      ]
     },
     "execution_count": 12,
     "metadata": {},
     "output_type": "execute_result"
    }
   ],
   "source": [
    "comorbidities = pd.read_csv(\"Data/extra_data/MIMIC_diagnoses.csv\")\n",
    "comorbidities.head()"
   ]
  },
  {
   "cell_type": "code",
   "execution_count": 13,
   "metadata": {},
   "outputs": [
    {
     "data": {
      "text/html": [
       "<div>\n",
       "<style scoped>\n",
       "    .dataframe tbody tr th:only-of-type {\n",
       "        vertical-align: middle;\n",
       "    }\n",
       "\n",
       "    .dataframe tbody tr th {\n",
       "        vertical-align: top;\n",
       "    }\n",
       "\n",
       "    .dataframe thead th {\n",
       "        text-align: right;\n",
       "    }\n",
       "</style>\n",
       "<table border=\"1\" class=\"dataframe\">\n",
       "  <thead>\n",
       "    <tr style=\"text-align: right;\">\n",
       "      <th></th>\n",
       "      <th>SUBJECT_ID</th>\n",
       "      <th>HADM_ID</th>\n",
       "      <th>number_comorbidities</th>\n",
       "    </tr>\n",
       "  </thead>\n",
       "  <tbody>\n",
       "    <tr>\n",
       "      <th>0</th>\n",
       "      <td>2</td>\n",
       "      <td>163353</td>\n",
       "      <td>3.0</td>\n",
       "    </tr>\n",
       "    <tr>\n",
       "      <th>1</th>\n",
       "      <td>3</td>\n",
       "      <td>145834</td>\n",
       "      <td>9.0</td>\n",
       "    </tr>\n",
       "    <tr>\n",
       "      <th>2</th>\n",
       "      <td>4</td>\n",
       "      <td>185777</td>\n",
       "      <td>9.0</td>\n",
       "    </tr>\n",
       "    <tr>\n",
       "      <th>3</th>\n",
       "      <td>5</td>\n",
       "      <td>178980</td>\n",
       "      <td>3.0</td>\n",
       "    </tr>\n",
       "    <tr>\n",
       "      <th>4</th>\n",
       "      <td>6</td>\n",
       "      <td>107064</td>\n",
       "      <td>8.0</td>\n",
       "    </tr>\n",
       "    <tr>\n",
       "      <th>...</th>\n",
       "      <td>...</td>\n",
       "      <td>...</td>\n",
       "      <td>...</td>\n",
       "    </tr>\n",
       "    <tr>\n",
       "      <th>58971</th>\n",
       "      <td>99985</td>\n",
       "      <td>176670</td>\n",
       "      <td>13.0</td>\n",
       "    </tr>\n",
       "    <tr>\n",
       "      <th>58972</th>\n",
       "      <td>99991</td>\n",
       "      <td>151118</td>\n",
       "      <td>17.0</td>\n",
       "    </tr>\n",
       "    <tr>\n",
       "      <th>58973</th>\n",
       "      <td>99992</td>\n",
       "      <td>197084</td>\n",
       "      <td>12.0</td>\n",
       "    </tr>\n",
       "    <tr>\n",
       "      <th>58974</th>\n",
       "      <td>99995</td>\n",
       "      <td>137810</td>\n",
       "      <td>17.0</td>\n",
       "    </tr>\n",
       "    <tr>\n",
       "      <th>58975</th>\n",
       "      <td>99999</td>\n",
       "      <td>113369</td>\n",
       "      <td>5.0</td>\n",
       "    </tr>\n",
       "  </tbody>\n",
       "</table>\n",
       "<p>58976 rows × 3 columns</p>\n",
       "</div>"
      ],
      "text/plain": [
       "       SUBJECT_ID  HADM_ID  number_comorbidities\n",
       "0               2   163353                   3.0\n",
       "1               3   145834                   9.0\n",
       "2               4   185777                   9.0\n",
       "3               5   178980                   3.0\n",
       "4               6   107064                   8.0\n",
       "...           ...      ...                   ...\n",
       "58971       99985   176670                  13.0\n",
       "58972       99991   151118                  17.0\n",
       "58973       99992   197084                  12.0\n",
       "58974       99995   137810                  17.0\n",
       "58975       99999   113369                   5.0\n",
       "\n",
       "[58976 rows x 3 columns]"
      ]
     },
     "execution_count": 13,
     "metadata": {},
     "output_type": "execute_result"
    }
   ],
   "source": [
    "number_comorbidities_patient = comorbidities.groupby([\"SUBJECT_ID\", \"HADM_ID\"]).max()[\"SEQ_NUM\"].reset_index()\n",
    "number_comorbidities_patient = number_comorbidities_patient.rename({\"SEQ_NUM\": \"number_comorbidities\"}, axis=1)\n",
    "number_comorbidities_patient"
   ]
  },
  {
   "cell_type": "code",
   "execution_count": 14,
   "metadata": {},
   "outputs": [],
   "source": [
    "# Join with training set\n",
    "data = pd.merge(data, number_comorbidities_patient, left_on=[\"subject_id\", \"hadm_id\"], right_on = [\"SUBJECT_ID\", \"HADM_ID\"], how = \"left\").drop([\"SUBJECT_ID\", \"HADM_ID\"], axis=1)\n",
    "\n",
    "# Join with test set\n",
    "data_test = pd.merge(data_test, number_comorbidities_patient, left_on=[\"subject_id\", \"hadm_id\"], right_on = [\"SUBJECT_ID\", \"HADM_ID\"], how = \"left\").drop([\"SUBJECT_ID\", \"HADM_ID\"], axis=1)"
   ]
  },
  {
   "cell_type": "code",
   "execution_count": 15,
   "metadata": {},
   "outputs": [],
   "source": [
    "data['MARITAL_STATUS'] = data['MARITAL_STATUS'].fillna('UNKNOWN (DEFAULT)')\n",
    "data_test['MARITAL_STATUS'] = data_test['MARITAL_STATUS'].fillna('UNKNOWN (DEFAULT)')"
   ]
  },
  {
   "cell_type": "code",
   "execution_count": 16,
   "metadata": {},
   "outputs": [],
   "source": [
    "#filing missing data with subject_id\n",
    "data = data.groupby(['subject_id'], as_index = False).apply(lambda group: group.ffill())\n",
    "data_test = data_test.groupby(['subject_id'], as_index = False).apply(lambda group: group.ffill())"
   ]
  },
  {
   "cell_type": "code",
   "execution_count": 17,
   "metadata": {},
   "outputs": [
    {
     "data": {
      "text/plain": [
       "HOSPITAL_EXPIRE_FLAG       0\n",
       "subject_id                 0\n",
       "hadm_id                    0\n",
       "icustay_id                 0\n",
       "HeartRate_Min           1937\n",
       "HeartRate_Max           1937\n",
       "HeartRate_Mean          1937\n",
       "SysBP_Min               1957\n",
       "SysBP_Max               1957\n",
       "SysBP_Mean              1957\n",
       "DiasBP_Min              1958\n",
       "DiasBP_Max              1958\n",
       "DiasBP_Mean             1958\n",
       "MeanBP_Min              1937\n",
       "MeanBP_Max              1937\n",
       "MeanBP_Mean             1937\n",
       "RespRate_Min            1938\n",
       "RespRate_Max            1938\n",
       "RespRate_Mean           1938\n",
       "TempC_Min               2207\n",
       "TempC_Max               2207\n",
       "TempC_Mean              2207\n",
       "SpO2_Min                1952\n",
       "SpO2_Max                1952\n",
       "SpO2_Mean               1952\n",
       "Glucose_Min              214\n",
       "Glucose_Max              214\n",
       "Glucose_Mean             214\n",
       "GENDER                     0\n",
       "DOB                        0\n",
       "ADMITTIME                  0\n",
       "Diff                       0\n",
       "ADMISSION_TYPE             0\n",
       "INSURANCE                  0\n",
       "RELIGION                   0\n",
       "MARITAL_STATUS             0\n",
       "ETHNICITY                  0\n",
       "DIAGNOSIS                  0\n",
       "ICD9_diagnosis             0\n",
       "FIRST_CAREUNIT             0\n",
       "LOS                        0\n",
       "visits_ICU                 0\n",
       "number_comorbidities       0\n",
       "dtype: int64"
      ]
     },
     "execution_count": 17,
     "metadata": {},
     "output_type": "execute_result"
    }
   ],
   "source": [
    "data.isnull().sum()"
   ]
  },
  {
   "cell_type": "code",
   "execution_count": 18,
   "metadata": {},
   "outputs": [],
   "source": [
    "data = data.groupby(['subject_id'], as_index = False).apply(lambda group: group.bfill())\n",
    "data_test = data_test.groupby(['subject_id'], as_index = False).apply(lambda group: group.bfill())"
   ]
  },
  {
   "cell_type": "code",
   "execution_count": 19,
   "metadata": {},
   "outputs": [
    {
     "data": {
      "text/plain": [
       "HOSPITAL_EXPIRE_FLAG       0\n",
       "subject_id                 0\n",
       "hadm_id                    0\n",
       "icustay_id                 0\n",
       "HeartRate_Min           1787\n",
       "HeartRate_Max           1787\n",
       "HeartRate_Mean          1787\n",
       "SysBP_Min               1804\n",
       "SysBP_Max               1804\n",
       "SysBP_Mean              1804\n",
       "DiasBP_Min              1805\n",
       "DiasBP_Max              1805\n",
       "DiasBP_Mean             1805\n",
       "MeanBP_Min              1788\n",
       "MeanBP_Max              1788\n",
       "MeanBP_Mean             1788\n",
       "RespRate_Min            1787\n",
       "RespRate_Max            1787\n",
       "RespRate_Mean           1787\n",
       "TempC_Min               2028\n",
       "TempC_Max               2028\n",
       "TempC_Mean              2028\n",
       "SpO2_Min                1800\n",
       "SpO2_Max                1800\n",
       "SpO2_Mean               1800\n",
       "Glucose_Min              191\n",
       "Glucose_Max              191\n",
       "Glucose_Mean             191\n",
       "GENDER                     0\n",
       "DOB                        0\n",
       "ADMITTIME                  0\n",
       "Diff                       0\n",
       "ADMISSION_TYPE             0\n",
       "INSURANCE                  0\n",
       "RELIGION                   0\n",
       "MARITAL_STATUS             0\n",
       "ETHNICITY                  0\n",
       "DIAGNOSIS                  0\n",
       "ICD9_diagnosis             0\n",
       "FIRST_CAREUNIT             0\n",
       "LOS                        0\n",
       "visits_ICU                 0\n",
       "number_comorbidities       0\n",
       "dtype: int64"
      ]
     },
     "execution_count": 19,
     "metadata": {},
     "output_type": "execute_result"
    }
   ],
   "source": [
    "#we still have missing data but its lower than before\n",
    "data.isnull().sum()"
   ]
  },
  {
   "cell_type": "code",
   "execution_count": 20,
   "metadata": {},
   "outputs": [
    {
     "name": "stderr",
     "output_type": "stream",
     "text": [
      "C:\\Users\\FDN-Aysu\\anaconda3\\lib\\site-packages\\pandas\\core\\indexing.py:1732: SettingWithCopyWarning: \n",
      "A value is trying to be set on a copy of a slice from a DataFrame\n",
      "\n",
      "See the caveats in the documentation: https://pandas.pydata.org/pandas-docs/stable/user_guide/indexing.html#returning-a-view-versus-a-copy\n",
      "  self._setitem_single_block(indexer, value, name)\n"
     ]
    },
    {
     "name": "stdout",
     "output_type": "stream",
     "text": [
      "False\n"
     ]
    }
   ],
   "source": [
    "#data has some unrealistic values in admit time and dob.\n",
    "#I calculate age when the patient admit \n",
    "\n",
    "#spliting date values into day, month and year\n",
    "data['real_admittime'] = np.nan\n",
    "data['real_dob'] = np.nan\n",
    "for i in range(len(data)):\n",
    "    admit_datetime = datetime.strptime(data['ADMITTIME'].iloc[i], '%Y-%m-%d %H:%M:%S')\n",
    "    eps = timedelta(days = data['Diff'].iloc[i])\n",
    "    real_admit = admit_datetime + eps\n",
    "    data['real_admittime'].iloc[i] = real_admit\n",
    "\n",
    "for i in range(len(data)):\n",
    "    dob_datetime = datetime.strptime(data['DOB'].iloc[i], '%Y-%m-%d %H:%M:%S')\n",
    "    eps = timedelta(days = data['Diff'].iloc[i])\n",
    "    real_dob = dob_datetime + eps\n",
    "    data['real_dob'].iloc[i] = real_dob\n",
    "    \n",
    "data = data.drop(['ADMITTIME', 'DOB'], axis = 1)\n",
    "data['age_at_admin'] = np.nan\n",
    "\n",
    "for i in range(len(data)):\n",
    "    data['age_at_admin'].iloc[i] = data['real_admittime'].iloc[i] - data['real_dob'].iloc[i]\n",
    "    data['age_at_admin'].iloc[i] = data['age_at_admin'].iloc[i].days / 365\n",
    "\n",
    "data = data.drop(['real_admittime', 'real_dob', 'Diff'], axis = 1)\n",
    "print(data['age_at_admin'].isnull().any() )"
   ]
  },
  {
   "cell_type": "code",
   "execution_count": 21,
   "metadata": {},
   "outputs": [
    {
     "name": "stdout",
     "output_type": "stream",
     "text": [
      "False\n"
     ]
    }
   ],
   "source": [
    "#same process for test set \n",
    "data_test['real_admittime'] = np.nan\n",
    "data_test['real_dob'] = np.nan\n",
    "for i in range(len(data_test)):\n",
    "    admit_datetime = datetime.strptime(data_test['ADMITTIME'].iloc[i], '%Y-%m-%d %H:%M:%S')\n",
    "    eps = timedelta(days = data_test['Diff'].iloc[i])\n",
    "    real_admit = admit_datetime + eps\n",
    "    data_test['real_admittime'].iloc[i] = real_admit\n",
    "\n",
    "for i in range(len(data_test)):\n",
    "    dob_datetime = datetime.strptime(data_test['DOB'].iloc[i], '%Y-%m-%d %H:%M:%S')\n",
    "    eps = timedelta(days = data_test['Diff'].iloc[i])\n",
    "    real_dob = dob_datetime + eps\n",
    "    data_test['real_dob'].iloc[i] = real_dob\n",
    "    \n",
    "data_test = data_test.drop(['ADMITTIME', 'DOB'], axis = 1)\n",
    "data_test['age_at_admin'] = np.nan\n",
    "\n",
    "for i in range(len(data_test)):\n",
    "    data_test['age_at_admin'].iloc[i] = data_test['real_admittime'].iloc[i] - data_test['real_dob'].iloc[i]\n",
    "    data_test['age_at_admin'].iloc[i] = data_test['age_at_admin'].iloc[i].days / 365\n",
    "\n",
    "data_test = data_test.drop(['real_admittime', 'real_dob', 'Diff'], axis = 1)\n",
    "print(data_test['age_at_admin'].isnull().any() )"
   ]
  },
  {
   "cell_type": "code",
   "execution_count": 22,
   "metadata": {},
   "outputs": [
    {
     "name": "stderr",
     "output_type": "stream",
     "text": [
      "C:\\Users\\FDN-Aysu\\anaconda3\\lib\\site-packages\\seaborn\\distributions.py:2619: FutureWarning: `distplot` is a deprecated function and will be removed in a future version. Please adapt your code to use either `displot` (a figure-level function with similar flexibility) or `histplot` (an axes-level function for histograms).\n",
      "  warnings.warn(msg, FutureWarning)\n",
      "C:\\Users\\FDN-Aysu\\anaconda3\\lib\\site-packages\\seaborn\\distributions.py:2619: FutureWarning: `distplot` is a deprecated function and will be removed in a future version. Please adapt your code to use either `displot` (a figure-level function with similar flexibility) or `histplot` (an axes-level function for histograms).\n",
      "  warnings.warn(msg, FutureWarning)\n"
     ]
    },
    {
     "data": {
      "text/plain": [
       "<matplotlib.legend.Legend at 0x16a01a21cd0>"
      ]
     },
     "execution_count": 22,
     "metadata": {},
     "output_type": "execute_result"
    },
    {
     "data": {
      "image/png": "[encoded data removed]",
      "text/plain": [
       "<Figure size 720x504 with 1 Axes>"
      ]
     },
     "metadata": {},
     "output_type": "display_data"
    }
   ],
   "source": [
    "#showing the age at admit date\n",
    "sns.set(rc = {'figure.figsize':(10,7)}, font_scale=1.25)\n",
    "sns.set_style(\"darkgrid\")\n",
    "sns.distplot(data['age_at_admin'], label='Train Set')\n",
    "sns.distplot(data_test['age_at_admin'], label='Test Set')\n",
    "plt.legend()\n",
    "\n",
    "#as we can see some patients are 300 years old"
   ]
  },
  {
   "cell_type": "code",
   "execution_count": 23,
   "metadata": {},
   "outputs": [
    {
     "name": "stderr",
     "output_type": "stream",
     "text": [
      "C:\\Users\\FDN-Aysu\\anaconda3\\lib\\site-packages\\seaborn\\distributions.py:2619: FutureWarning: `distplot` is a deprecated function and will be removed in a future version. Please adapt your code to use either `displot` (a figure-level function with similar flexibility) or `histplot` (an axes-level function for histograms).\n",
      "  warnings.warn(msg, FutureWarning)\n",
      "C:\\Users\\FDN-Aysu\\anaconda3\\lib\\site-packages\\seaborn\\distributions.py:2619: FutureWarning: `distplot` is a deprecated function and will be removed in a future version. Please adapt your code to use either `displot` (a figure-level function with similar flexibility) or `histplot` (an axes-level function for histograms).\n",
      "  warnings.warn(msg, FutureWarning)\n"
     ]
    },
    {
     "data": {
      "text/plain": [
       "<matplotlib.legend.Legend at 0x16a0032d700>"
      ]
     },
     "execution_count": 23,
     "metadata": {},
     "output_type": "execute_result"
    },
    {
     "data": {
      "image/png": "[encoded data removed]",
      "text/plain": [
       "<Figure size 720x504 with 1 Axes>"
      ]
     },
     "metadata": {},
     "output_type": "display_data"
    }
   ],
   "source": [
    "#for better train and test data I changed ages more than 100 with mean age\n",
    "mean_age_train = data.loc[data['age_at_admin']<100, 'age_at_admin'].mean()\n",
    "\n",
    "data.loc[data.age_at_admin >= 100, 'age_at_admin'] = np.nan\n",
    "data['age_at_admin'].fillna(mean_age_train, inplace=True)\n",
    "\n",
    "data_test.loc[data_test.age_at_admin >= 100, 'age_at_admin'] = np.nan\n",
    "data_test['age_at_admin'].fillna(mean_age_train, inplace=True)\n",
    "\n",
    "#data.drop(data[data['age_at_admin']>= 100].index ,inplace = True)\n",
    "#data_test.drop(data_test[data_test['age_at_admin']>= 100].index ,inplace = True)\n",
    "sns.set(rc = {'figure.figsize':(10,7)}, font_scale=1.25)\n",
    "sns.set(rc = {'figure.figsize':(10,7)}, font_scale=1.25)\n",
    "sns.set_style(\"darkgrid\")\n",
    "sns.distplot(data['age_at_admin'], label='Train Set After Removing')\n",
    "sns.distplot(data_test['age_at_admin'], label='Test Set After Removing')\n",
    "plt.legend()"
   ]
  },
  {
   "cell_type": "code",
   "execution_count": 24,
   "metadata": {},
   "outputs": [],
   "source": [
    "data['ETHNICITY'] = data['ETHNICITY'].replace(['ASIAN', 'ASIAN - CHINESE', 'ASIAN - ASIAN INDIAN', 'ASIAN - VIETNAMESE', 'ASIAN - FILIPINO', 'ASIAN - CAMBODIAN',\n",
    "                                                     'ASIAN - JAPANESE', 'ASIAN - THAI', 'ASIAN - OTHER', 'ASIAN - KOREAN'\n",
    "                                                     ], 'ASIAN')\n",
    "\n",
    "data['ETHNICITY'] = data['ETHNICITY'].replace(['HISPANIC 0R LATINO', 'HISPANIC/LATINO - PUERTO RICAN', 'HISPANIC/LATINO - DOMINICAN', \n",
    "                                                     'HISPANIC/LATINO - GUATEMALAN', 'HISPANIC/LATINO - CUBAN', 'HISPANIC/LATINO - SALVADORAN',\n",
    "                                                     'HISPANIC/LATINO - MEXICAN', 'HISPANIC/LATINO - CENTRAL AMERICAN (OTHER)', 'HISPANIC/LATINO - COLOMBIAN',\n",
    "                                                     'HISPANIC/LATINO - HONDURAN', 'SOUTH AMERICAN'\n",
    "                                                     ], 'HISPANIC OR LATINO')\n",
    "\n",
    "data['ETHNICITY'] = data['ETHNICITY'].replace(['WHITE', 'WHITE - RUSSIAN', 'WHITE - OTHER EUROPEAN', 'WHITE - EASTERN EUROPEAN',\n",
    "                                                     'WHITE - BRAZILIAN'\n",
    "                                                     ], 'WHITE')\n",
    "\n",
    "data['ETHNICITY'] = data['ETHNICITY'].replace(['BLACK/AFRICAN', 'BLACK/AFRICAN AMERICAN', 'BLACK/CAPE VERDEAN', 'BLACK/HAITIAN'\n",
    "                                                     ], 'BLACK')\n",
    "\n",
    "data['ETHNICITY'] = data['ETHNICITY'].replace(['UNABLE TO OBTAIN', 'UNKNOWN/NOT SPECIFIED', 'PATIENT DECLINED TO ANSWER'\n",
    "                                                     ], 'UNKNOWN')\n",
    "\n",
    "data['ETHNICITY'] = data['ETHNICITY'].replace(['AMERICAN INDIAN/ALASKA NATIVE', 'AMERICAN INDIAN/ALASKA NATIVE FEDERALLY RECOGNIZED TRIBE', \n",
    "                                                     'CARIBBEAN ISLAND', 'MIDDLE EASTERN', 'OTHER', 'PORTUGUESE', 'NATIVE HAWAIIAN OR OTHER PACIFIC ISLANDER', \n",
    "                                                     'MULTI RACE ethnicity'\n",
    "                                                     ], 'OTHER')"
   ]
  },
  {
   "cell_type": "code",
   "execution_count": 25,
   "metadata": {},
   "outputs": [],
   "source": [
    "data_test['ETHNICITY'] = data_test['ETHNICITY'].replace(['ASIAN', 'ASIAN - CHINESE', 'ASIAN - ASIAN INDIAN', 'ASIAN - VIETNAMESE', 'ASIAN - FILIPINO', 'ASIAN - CAMBODIAN',\n",
    "                                                     'ASIAN - JAPANESE', 'ASIAN - THAI', 'ASIAN - OTHER', 'ASIAN - KOREAN'\n",
    "                                                     ], 'ASIAN')\n",
    "\n",
    "data_test['ETHNICITY'] = data_test['ETHNICITY'].replace(['HISPANIC 0R LATINO', 'HISPANIC/LATINO - PUERTO RICAN', 'HISPANIC/LATINO - DOMINICAN', \n",
    "                                                     'HISPANIC/LATINO - GUATEMALAN', 'HISPANIC/LATINO - CUBAN', 'HISPANIC/LATINO - SALVADORAN',\n",
    "                                                     'HISPANIC/LATINO - MEXICAN', 'HISPANIC/LATINO - CENTRAL AMERICAN (OTHER)', 'HISPANIC/LATINO - COLOMBIAN',\n",
    "                                                     'HISPANIC/LATINO - HONDURAN', 'SOUTH AMERICAN'\n",
    "                                                     ], 'HISPANIC OR LATINO')\n",
    "\n",
    "data_test['ETHNICITY'] = data_test['ETHNICITY'].replace(['WHITE', 'WHITE - RUSSIAN', 'WHITE - OTHER EUROPEAN', 'WHITE - EASTERN EUROPEAN',\n",
    "                                                     'WHITE - BRAZILIAN'\n",
    "                                                     ], 'WHITE')\n",
    "\n",
    "data_test['ETHNICITY'] = data_test['ETHNICITY'].replace(['BLACK/AFRICAN', 'BLACK/AFRICAN AMERICAN', 'BLACK/CAPE VERDEAN', 'BLACK/HAITIAN'\n",
    "                                                     ], 'BLACK')\n",
    "\n",
    "data_test['ETHNICITY'] = data_test['ETHNICITY'].replace(['UNABLE TO OBTAIN', 'UNKNOWN/NOT SPECIFIED', 'PATIENT DECLINED TO ANSWER'\n",
    "                                                     ], 'UNKNOWN')\n",
    "\n",
    "data_test['ETHNICITY'] = data_test['ETHNICITY'].replace(['AMERICAN INDIAN/ALASKA NATIVE', 'AMERICAN INDIAN/ALASKA NATIVE FEDERALLY RECOGNIZED TRIBE', \n",
    "                                                     'CARIBBEAN ISLAND', 'MIDDLE EASTERN', 'OTHER', 'PORTUGUESE', 'NATIVE HAWAIIAN OR OTHER PACIFIC ISLANDER', \n",
    "                                                     'MULTI RACE ethnicity'\n",
    "                                                     ], 'OTHER')"
   ]
  },
  {
   "cell_type": "code",
   "execution_count": 26,
   "metadata": {},
   "outputs": [],
   "source": [
    "religion_other = ['HEBREW', 'UNITARIAN-UNIVERSALIST', 'HINDU', 'GREEK ORTHODOX',\"JEHOVAH'S WITNESS\", \"BUDDHIST\", 'OTHER', 'CHRISTIAN SCIENTIST', 'EPISCOPALIAN', 'ROMANIAN EAST. ORTH', '7TH DAY ADVENTIST'] \n",
    "data['RELIGION'] = data['RELIGION'].replace(religion_other, 'OTHER')\n",
    "data_test['RELIGION'] = data_test['RELIGION'].replace(religion_other, 'OTHER')"
   ]
  },
  {
   "cell_type": "code",
   "execution_count": 27,
   "metadata": {},
   "outputs": [],
   "source": [
    "y_train = data[\"LOS\"]\n",
    "data = data.drop([\"HOSPITAL_EXPIRE_FLAG\",\"subject_id\",\"hadm_id\",\"icustay_id\",\"LOS\",\"DIAGNOSIS\"], axis = 1)"
   ]
  },
  {
   "cell_type": "code",
   "execution_count": 28,
   "metadata": {},
   "outputs": [],
   "source": [
    "X_train=data"
   ]
  },
  {
   "cell_type": "code",
   "execution_count": 29,
   "metadata": {},
   "outputs": [],
   "source": [
    "num_feat_df = X_train.select_dtypes(exclude=['object', 'category'])\n",
    "cat_feat_df = X_train.select_dtypes(include=['object', 'category'])\n",
    "icd9_feat_df = cat_feat_df['ICD9_diagnosis']\n",
    "cat_feat_df = cat_feat_df.drop('ICD9_diagnosis',axis=1) "
   ]
  },
  {
   "cell_type": "code",
   "execution_count": 30,
   "metadata": {},
   "outputs": [
    {
     "name": "stdout",
     "output_type": "stream",
     "text": [
      "Index(['HeartRate_Min', 'HeartRate_Max', 'HeartRate_Mean', 'SysBP_Min',\n",
      "       'SysBP_Max', 'SysBP_Mean', 'DiasBP_Min', 'DiasBP_Max', 'DiasBP_Mean',\n",
      "       'MeanBP_Min', 'MeanBP_Max', 'MeanBP_Mean', 'RespRate_Min',\n",
      "       'RespRate_Max', 'RespRate_Mean', 'TempC_Min', 'TempC_Max', 'TempC_Mean',\n",
      "       'SpO2_Min', 'SpO2_Max', 'SpO2_Mean', 'Glucose_Min', 'Glucose_Max',\n",
      "       'Glucose_Mean', 'visits_ICU', 'number_comorbidities', 'age_at_admin'],\n",
      "      dtype='object')\n",
      "['ICD9_diagnosis']\n",
      "Index(['GENDER', 'ADMISSION_TYPE', 'INSURANCE', 'RELIGION', 'MARITAL_STATUS',\n",
      "       'ETHNICITY', 'FIRST_CAREUNIT'],\n",
      "      dtype='object')\n"
     ]
    }
   ],
   "source": [
    "# Update list of numerical and categorical features\n",
    "num_feat = X_train.select_dtypes(exclude=['object', 'category']).columns\n",
    "print(num_feat)\n",
    "\n",
    "cat_feat = X_train.select_dtypes(include=['object', 'category']).columns\n",
    "\n",
    "# make own category for preprocessing 'ICD9_diagnosis'\n",
    "icd9_feat = ['ICD9_diagnosis']\n",
    "cat_feat = cat_feat.drop(['ICD9_diagnosis']) \n",
    "print(icd9_feat)\n",
    "print(cat_feat)"
   ]
  },
  {
   "cell_type": "code",
   "execution_count": 31,
   "metadata": {},
   "outputs": [
    {
     "name": "stdout",
     "output_type": "stream",
     "text": [
      "Features in train data but not in test:\n",
      "Index([], dtype='object')\n",
      "\n",
      "Features in test data but not in train:\n",
      "Index(['DIAGNOSIS', 'hadm_id', 'icustay_id', 'subject_id'], dtype='object')\n"
     ]
    }
   ],
   "source": [
    "print(\"Features in train data but not in test:\")\n",
    "print(data.columns.difference(data_test.columns) )\n",
    "\n",
    "print(\"\\nFeatures in test data but not in train:\")\n",
    "print(data_test.columns.difference(data.columns) )"
   ]
  },
  {
   "cell_type": "code",
   "execution_count": 32,
   "metadata": {},
   "outputs": [],
   "source": [
    "data_test = data_test.drop([\"subject_id\",\"hadm_id\",\"icustay_id\",\"DIAGNOSIS\"], axis = 1)"
   ]
  },
  {
   "cell_type": "code",
   "execution_count": 33,
   "metadata": {},
   "outputs": [],
   "source": [
    "X_test=data_test"
   ]
  },
  {
   "cell_type": "code",
   "execution_count": 34,
   "metadata": {},
   "outputs": [],
   "source": [
    "num_feat_test_df = X_test.select_dtypes(exclude=['object', 'category'])\n",
    "cat_feat_test_df = X_test.select_dtypes(include=['object', 'category'])\n",
    "icd9_feat_test_df = cat_feat_test_df['ICD9_diagnosis']\n",
    "cat_feat_test_df = cat_feat_test_df.drop('ICD9_diagnosis',axis=1) "
   ]
  },
  {
   "cell_type": "code",
   "execution_count": 35,
   "metadata": {},
   "outputs": [
    {
     "name": "stdout",
     "output_type": "stream",
     "text": [
      "Index(['HeartRate_Min', 'HeartRate_Max', 'HeartRate_Mean', 'SysBP_Min',\n",
      "       'SysBP_Max', 'SysBP_Mean', 'DiasBP_Min', 'DiasBP_Max', 'DiasBP_Mean',\n",
      "       'MeanBP_Min', 'MeanBP_Max', 'MeanBP_Mean', 'RespRate_Min',\n",
      "       'RespRate_Max', 'RespRate_Mean', 'TempC_Min', 'TempC_Max', 'TempC_Mean',\n",
      "       'SpO2_Min', 'SpO2_Max', 'SpO2_Mean', 'Glucose_Min', 'Glucose_Max',\n",
      "       'Glucose_Mean', 'visits_ICU', 'number_comorbidities', 'age_at_admin'],\n",
      "      dtype='object')\n",
      "['ICD9_diagnosis']\n",
      "Index(['GENDER', 'ADMISSION_TYPE', 'INSURANCE', 'RELIGION', 'MARITAL_STATUS',\n",
      "       'ETHNICITY', 'FIRST_CAREUNIT'],\n",
      "      dtype='object')\n"
     ]
    }
   ],
   "source": [
    "# Update list of numerical and categorical features\n",
    "num_feat_test = X_test.select_dtypes(exclude=['object', 'category']).columns\n",
    "print(num_feat_test)\n",
    "\n",
    "cat_feat_test = X_test.select_dtypes(include=['object', 'category']).columns\n",
    "\n",
    "# make own category for preprocessing 'ICD9_diagnosis'\n",
    "icd9_feat_test = ['ICD9_diagnosis']\n",
    "cat_feat_test = cat_feat_test.drop(['ICD9_diagnosis']) \n",
    "print(icd9_feat_test)\n",
    "print(cat_feat_test)"
   ]
  },
  {
   "cell_type": "markdown",
   "metadata": {},
   "source": [
    "I didn't use pipeline. I go with the option step by step.\n",
    "First, dividing data into 3 parts:\n",
    "\n",
    "1. Numerical data\n",
    "\n",
    "2. Categorical data\n",
    "\n",
    "3. ICD9 Diagnosis data\n",
    "\n",
    "\n",
    "For categorical, I used OneHotEncoder and StandartScaler. For diagnosis, TargetEncoder and StandartScaler. Lastly, I used SimpleImputer for numerical data"
   ]
  },
  {
   "cell_type": "code",
   "execution_count": 36,
   "metadata": {},
   "outputs": [],
   "source": [
    "from sklearn.impute import SimpleImputer\n",
    "\n",
    "\n",
    "imputer = SimpleImputer(missing_values=np.nan,strategy='mean')\n",
    "imputer = imputer.fit(num_feat_df)\n",
    "num_feat_df = imputer.transform(num_feat_df)\n",
    "num_feat_test_df = imputer.transform(num_feat_test_df)\n"
   ]
  },
  {
   "cell_type": "code",
   "execution_count": 37,
   "metadata": {},
   "outputs": [],
   "source": [
    "num_feat_df=pd.DataFrame(num_feat_df)"
   ]
  },
  {
   "cell_type": "code",
   "execution_count": 38,
   "metadata": {},
   "outputs": [],
   "source": [
    "num_feat_test_df=pd.DataFrame(num_feat_test_df)"
   ]
  },
  {
   "cell_type": "markdown",
   "metadata": {},
   "source": [
    "I renamed column names of numerical data manually. Because transform function turns data into numpy array. However, we need a dataframe for working with machine learning algorithms. "
   ]
  },
  {
   "cell_type": "code",
   "execution_count": 39,
   "metadata": {},
   "outputs": [],
   "source": [
    "num_feat_df.rename(columns={0: 'HeartRate_Min', 1: 'HeartRate_Max',\n",
    "                           2:'HeartRate_Mean', 3:'SysBP_Min',\n",
    "                           4:'SysBP_Max', 5:'SysBP_Mean',\n",
    "                           6:'DiasBP_Min', 7:'DiasBP_Max',\n",
    "                           8:'DiasBP_Mean', 9:'MeanBP_Min',\n",
    "                           10:'MeanBP_Max', 11:'MeanBP_Mean',\n",
    "                           12:'RespRate_Min', 13:'RespRate_Max',\n",
    "                           14:'RespRate_Mean', 15:'TempC_Min',\n",
    "                            16:'TempC_Max', 17:'TempC_Mean',\n",
    "                            18:'SpO2_Min', 19:'SpO2_Max',\n",
    "                            20:'SpO2_Mean', 21:'Glucose_Min',\n",
    "                            22:'Glucose_Max', 23:'Glucose_Mean',\n",
    "                            24:'visits_ICU', 25:'number_comorbidities',\n",
    "                            26:'age_at_admin'},inplace=True)\n"
   ]
  },
  {
   "cell_type": "code",
   "execution_count": 40,
   "metadata": {},
   "outputs": [],
   "source": [
    "num_feat_test_df.rename(columns={0: 'HeartRate_Min', 1: 'HeartRate_Max',\n",
    "                           2:'HeartRate_Mean', 3:'SysBP_Min',\n",
    "                           4:'SysBP_Max', 5:'SysBP_Mean',\n",
    "                           6:'DiasBP_Min', 7:'DiasBP_Max',\n",
    "                           8:'DiasBP_Mean', 9:'MeanBP_Min',\n",
    "                           10:'MeanBP_Max', 11:'MeanBP_Mean',\n",
    "                           12:'RespRate_Min', 13:'RespRate_Max',\n",
    "                           14:'RespRate_Mean', 15:'TempC_Min',\n",
    "                            16:'TempC_Max', 17:'TempC_Mean',\n",
    "                            18:'SpO2_Min', 19:'SpO2_Max',\n",
    "                            20:'SpO2_Mean', 21:'Glucose_Min',\n",
    "                            22:'Glucose_Max', 23:'Glucose_Mean',\n",
    "                            24:'visits_ICU', 25:'number_comorbidities',\n",
    "                            26:'age_at_admin'},inplace=True)"
   ]
  },
  {
   "cell_type": "code",
   "execution_count": 41,
   "metadata": {},
   "outputs": [],
   "source": [
    "from sklearn.preprocessing import OneHotEncoder\n",
    "\n",
    "cat_encoder = OneHotEncoder(handle_unknown=\"ignore\", sparse=False)"
   ]
  },
  {
   "cell_type": "code",
   "execution_count": 42,
   "metadata": {},
   "outputs": [
    {
     "data": {
      "text/plain": [
       "OneHotEncoder(handle_unknown='ignore', sparse=False)"
      ]
     },
     "execution_count": 42,
     "metadata": {},
     "output_type": "execute_result"
    }
   ],
   "source": [
    "cat_encoder.fit(cat_feat_df)"
   ]
  },
  {
   "cell_type": "code",
   "execution_count": 43,
   "metadata": {},
   "outputs": [],
   "source": [
    "cat_feat_df=cat_encoder.transform(cat_feat_df)\n",
    "cat_feat_test_df=cat_encoder.transform(cat_feat_test_df)"
   ]
  },
  {
   "cell_type": "code",
   "execution_count": 44,
   "metadata": {},
   "outputs": [],
   "source": [
    "cat_feat_df=pd.DataFrame(cat_feat_df)"
   ]
  },
  {
   "cell_type": "code",
   "execution_count": 45,
   "metadata": {},
   "outputs": [],
   "source": [
    "cat_feat_test_df=pd.DataFrame(cat_feat_test_df)"
   ]
  },
  {
   "cell_type": "code",
   "execution_count": null,
   "metadata": {},
   "outputs": [],
   "source": []
  },
  {
   "cell_type": "code",
   "execution_count": 46,
   "metadata": {},
   "outputs": [],
   "source": [
    "import category_encoders as ce\n",
    "\n",
    "icd9_encoder = ce.TargetEncoder(smoothing = 1.0)"
   ]
  },
  {
   "cell_type": "code",
   "execution_count": 47,
   "metadata": {},
   "outputs": [
    {
     "data": {
      "text/plain": [
       "TargetEncoder(cols=['ICD9_diagnosis'])"
      ]
     },
     "execution_count": 47,
     "metadata": {},
     "output_type": "execute_result"
    }
   ],
   "source": [
    "icd9_encoder.fit(icd9_feat_df,y_train)"
   ]
  },
  {
   "cell_type": "code",
   "execution_count": 48,
   "metadata": {},
   "outputs": [],
   "source": [
    "icd9_feat_df=icd9_encoder.transform(icd9_feat_df)\n",
    "icd9_feat_test_df=icd9_encoder.transform(icd9_feat_test_df)"
   ]
  },
  {
   "cell_type": "code",
   "execution_count": null,
   "metadata": {},
   "outputs": [],
   "source": []
  },
  {
   "cell_type": "code",
   "execution_count": 49,
   "metadata": {},
   "outputs": [],
   "source": [
    "from sklearn.preprocessing import RobustScaler\n",
    "\n",
    "transformer = RobustScaler().fit(num_feat_df)"
   ]
  },
  {
   "cell_type": "code",
   "execution_count": 50,
   "metadata": {},
   "outputs": [],
   "source": [
    "num_feat_df=transformer.transform(num_feat_df)\n",
    "num_feat_test_df=transformer.transform(num_feat_test_df)"
   ]
  },
  {
   "cell_type": "code",
   "execution_count": 51,
   "metadata": {},
   "outputs": [],
   "source": [
    "num_feat_df=pd.DataFrame(num_feat_df)"
   ]
  },
  {
   "cell_type": "code",
   "execution_count": 52,
   "metadata": {},
   "outputs": [],
   "source": [
    "num_feat_test_df=pd.DataFrame(num_feat_test_df)"
   ]
  },
  {
   "cell_type": "code",
   "execution_count": 53,
   "metadata": {},
   "outputs": [],
   "source": [
    "num_feat_df.rename(columns={0: 'HeartRate_Min', 1: 'HeartRate_Max',\n",
    "                           2:'HeartRate_Mean', 3:'SysBP_Min',\n",
    "                           4:'SysBP_Max', 5:'SysBP_Mean',\n",
    "                           6:'DiasBP_Min', 7:'DiasBP_Max',\n",
    "                           8:'DiasBP_Mean', 9:'MeanBP_Min',\n",
    "                           10:'MeanBP_Max', 11:'MeanBP_Mean',\n",
    "                           12:'RespRate_Min', 13:'RespRate_Max',\n",
    "                           14:'RespRate_Mean', 15:'TempC_Min',\n",
    "                            16:'TempC_Max', 17:'TempC_Mean',\n",
    "                            18:'SpO2_Min', 19:'SpO2_Max',\n",
    "                            20:'SpO2_Mean', 21:'Glucose_Min',\n",
    "                            22:'Glucose_Max', 23:'Glucose_Mean',\n",
    "                            24:'visits_ICU', 25:'number_comorbidities',\n",
    "                            26:'age_at_admin'},inplace=True)\n"
   ]
  },
  {
   "cell_type": "code",
   "execution_count": 54,
   "metadata": {},
   "outputs": [],
   "source": [
    "num_feat_test_df.rename(columns={0: 'HeartRate_Min', 1: 'HeartRate_Max',\n",
    "                           2:'HeartRate_Mean', 3:'SysBP_Min',\n",
    "                           4:'SysBP_Max', 5:'SysBP_Mean',\n",
    "                           6:'DiasBP_Min', 7:'DiasBP_Max',\n",
    "                           8:'DiasBP_Mean', 9:'MeanBP_Min',\n",
    "                           10:'MeanBP_Max', 11:'MeanBP_Mean',\n",
    "                           12:'RespRate_Min', 13:'RespRate_Max',\n",
    "                           14:'RespRate_Mean', 15:'TempC_Min',\n",
    "                            16:'TempC_Max', 17:'TempC_Mean',\n",
    "                            18:'SpO2_Min', 19:'SpO2_Max',\n",
    "                            20:'SpO2_Mean', 21:'Glucose_Min',\n",
    "                            22:'Glucose_Max', 23:'Glucose_Mean',\n",
    "                            24:'visits_ICU', 25:'number_comorbidities',\n",
    "                            26:'age_at_admin'},inplace=True)\n"
   ]
  },
  {
   "cell_type": "code",
   "execution_count": null,
   "metadata": {},
   "outputs": [],
   "source": []
  },
  {
   "cell_type": "code",
   "execution_count": 55,
   "metadata": {},
   "outputs": [],
   "source": [
    "from sklearn.preprocessing import StandardScaler\n",
    "\n",
    "scaler = StandardScaler()"
   ]
  },
  {
   "cell_type": "code",
   "execution_count": 56,
   "metadata": {},
   "outputs": [
    {
     "data": {
      "text/plain": [
       "StandardScaler()"
      ]
     },
     "execution_count": 56,
     "metadata": {},
     "output_type": "execute_result"
    }
   ],
   "source": [
    "scaler.fit(cat_feat_df)"
   ]
  },
  {
   "cell_type": "code",
   "execution_count": 57,
   "metadata": {},
   "outputs": [],
   "source": [
    "cat_feat_df=scaler.transform(cat_feat_df)\n",
    "cat_feat_test_df=scaler.transform(cat_feat_test_df)"
   ]
  },
  {
   "cell_type": "code",
   "execution_count": 58,
   "metadata": {},
   "outputs": [],
   "source": [
    "cat_feat_df=pd.DataFrame(cat_feat_df)"
   ]
  },
  {
   "cell_type": "code",
   "execution_count": 59,
   "metadata": {},
   "outputs": [],
   "source": [
    "cat_feat_test_df=pd.DataFrame(cat_feat_test_df)"
   ]
  },
  {
   "cell_type": "code",
   "execution_count": 60,
   "metadata": {},
   "outputs": [],
   "source": [
    "scaler_icd = StandardScaler()"
   ]
  },
  {
   "cell_type": "code",
   "execution_count": 61,
   "metadata": {},
   "outputs": [
    {
     "data": {
      "text/plain": [
       "StandardScaler()"
      ]
     },
     "execution_count": 61,
     "metadata": {},
     "output_type": "execute_result"
    }
   ],
   "source": [
    "scaler_icd.fit(icd9_feat_df)"
   ]
  },
  {
   "cell_type": "code",
   "execution_count": 62,
   "metadata": {},
   "outputs": [],
   "source": [
    "icd9_feat_df=scaler_icd.transform(icd9_feat_df)\n",
    "icd9_feat_test_df=scaler_icd.transform(icd9_feat_test_df)"
   ]
  },
  {
   "cell_type": "code",
   "execution_count": 63,
   "metadata": {},
   "outputs": [],
   "source": [
    "icd9_feat_df=pd.DataFrame(icd9_feat_df)\n",
    "icd9_feat_test_df=pd.DataFrame(icd9_feat_test_df)"
   ]
  },
  {
   "cell_type": "code",
   "execution_count": 64,
   "metadata": {},
   "outputs": [],
   "source": [
    "icd9_feat_df=icd9_feat_df.rename(columns={0:\"icd9\"})"
   ]
  },
  {
   "cell_type": "code",
   "execution_count": 65,
   "metadata": {},
   "outputs": [],
   "source": [
    "icd9_feat_test_df=icd9_feat_test_df.rename(columns={0:\"icd9\"})"
   ]
  },
  {
   "cell_type": "code",
   "execution_count": 66,
   "metadata": {},
   "outputs": [],
   "source": [
    "X_train = pd.concat([num_feat_df, icd9_feat_df, cat_feat_df], axis = 1)\n",
    "X_test = pd.concat([num_feat_test_df, icd9_feat_test_df, cat_feat_test_df], axis = 1)"
   ]
  },
  {
   "cell_type": "code",
   "execution_count": 67,
   "metadata": {},
   "outputs": [
    {
     "data": {
      "text/plain": [
       "Index([       'HeartRate_Min',        'HeartRate_Max',       'HeartRate_Mean',\n",
       "                  'SysBP_Min',            'SysBP_Max',           'SysBP_Mean',\n",
       "                 'DiasBP_Min',           'DiasBP_Max',          'DiasBP_Mean',\n",
       "                 'MeanBP_Min',           'MeanBP_Max',          'MeanBP_Mean',\n",
       "               'RespRate_Min',         'RespRate_Max',        'RespRate_Mean',\n",
       "                  'TempC_Min',            'TempC_Max',           'TempC_Mean',\n",
       "                   'SpO2_Min',             'SpO2_Max',            'SpO2_Mean',\n",
       "                'Glucose_Min',          'Glucose_Max',         'Glucose_Mean',\n",
       "                 'visits_ICU', 'number_comorbidities',         'age_at_admin',\n",
       "                       'icd9',                      0,                      1,\n",
       "                            2,                      3,                      4,\n",
       "                            5,                      6,                      7,\n",
       "                            8,                      9,                     10,\n",
       "                           11,                     12,                     13,\n",
       "                           14,                     15,                     16,\n",
       "                           17,                     18,                     19,\n",
       "                           20,                     21,                     22,\n",
       "                           23,                     24,                     25,\n",
       "                           26,                     27,                     28,\n",
       "                           29,                     30,                     31,\n",
       "                           32,                     33,                     34,\n",
       "                           35],\n",
       "      dtype='object')"
      ]
     },
     "execution_count": 67,
     "metadata": {},
     "output_type": "execute_result"
    }
   ],
   "source": [
    "X_train.columns"
   ]
  },
  {
   "cell_type": "code",
   "execution_count": 77,
   "metadata": {},
   "outputs": [],
   "source": [
    "from sklearn.tree import DecisionTreeRegressor\n",
    "from xgboost import XGBRegressor\n",
    "from sklearn.ensemble import RandomForestRegressor, AdaBoostRegressor, GradientBoostingRegressor\n",
    "from sklearn.metrics import mean_squared_error"
   ]
  },
  {
   "cell_type": "markdown",
   "metadata": {},
   "source": [
    "I used GridSearchCV for hyper parameter optimization. Results are saved in models variable."
   ]
  },
  {
   "cell_type": "code",
   "execution_count": 78,
   "metadata": {},
   "outputs": [
    {
     "name": "stdout",
     "output_type": "stream",
     "text": [
      "Grid-Searching for model XGB_Regressor...\n",
      "Best model fitted\n",
      "Grid-Searching for model DecisionTree_Regressor...\n"
     ]
    },
    {
     "name": "stderr",
     "output_type": "stream",
     "text": [
      "C:\\Users\\FDN-Aysu\\anaconda3\\lib\\site-packages\\sklearn\\utils\\validation.py:1675: FutureWarning: Feature names only support names that are all strings. Got feature names with dtypes: ['int', 'str']. An error will be raised in 1.2.\n",
      "  warnings.warn(\n",
      "C:\\Users\\FDN-Aysu\\anaconda3\\lib\\site-packages\\sklearn\\utils\\validation.py:1675: FutureWarning: Feature names only support names that are all strings. Got feature names with dtypes: ['int', 'str']. An error will be raised in 1.2.\n",
      "  warnings.warn(\n"
     ]
    },
    {
     "name": "stdout",
     "output_type": "stream",
     "text": [
      "Best model fitted\n",
      "Grid-Searching for model RandomForest_Regressor...\n"
     ]
    },
    {
     "name": "stderr",
     "output_type": "stream",
     "text": [
      "C:\\Users\\FDN-Aysu\\anaconda3\\lib\\site-packages\\sklearn\\utils\\validation.py:1675: FutureWarning: Feature names only support names that are all strings. Got feature names with dtypes: ['int', 'str']. An error will be raised in 1.2.\n",
      "  warnings.warn(\n"
     ]
    },
    {
     "name": "stdout",
     "output_type": "stream",
     "text": [
      "Best model fitted\n",
      "Grid-Searching for model AdaBoost_Regressor...\n"
     ]
    },
    {
     "name": "stderr",
     "output_type": "stream",
     "text": [
      "C:\\Users\\FDN-Aysu\\anaconda3\\lib\\site-packages\\sklearn\\utils\\validation.py:1675: FutureWarning: Feature names only support names that are all strings. Got feature names with dtypes: ['int', 'str']. An error will be raised in 1.2.\n",
      "  warnings.warn(\n",
      "C:\\Users\\FDN-Aysu\\anaconda3\\lib\\site-packages\\sklearn\\utils\\validation.py:1675: FutureWarning: Feature names only support names that are all strings. Got feature names with dtypes: ['int', 'str']. An error will be raised in 1.2.\n",
      "  warnings.warn(\n"
     ]
    },
    {
     "name": "stdout",
     "output_type": "stream",
     "text": [
      "Best model fitted\n",
      "Grid-Searching for model GradientBoosting_Regressor...\n"
     ]
    },
    {
     "name": "stderr",
     "output_type": "stream",
     "text": [
      "C:\\Users\\FDN-Aysu\\anaconda3\\lib\\site-packages\\sklearn\\utils\\validation.py:1675: FutureWarning: Feature names only support names that are all strings. Got feature names with dtypes: ['int', 'str']. An error will be raised in 1.2.\n",
      "  warnings.warn(\n",
      "C:\\Users\\FDN-Aysu\\anaconda3\\lib\\site-packages\\sklearn\\utils\\validation.py:1675: FutureWarning: Feature names only support names that are all strings. Got feature names with dtypes: ['int', 'str']. An error will be raised in 1.2.\n",
      "  warnings.warn(\n"
     ]
    },
    {
     "name": "stdout",
     "output_type": "stream",
     "text": [
      "Best model fitted\n"
     ]
    },
    {
     "name": "stderr",
     "output_type": "stream",
     "text": [
      "C:\\Users\\FDN-Aysu\\anaconda3\\lib\\site-packages\\sklearn\\utils\\validation.py:1675: FutureWarning: Feature names only support names that are all strings. Got feature names with dtypes: ['int', 'str']. An error will be raised in 1.2.\n",
      "  warnings.warn(\n"
     ]
    }
   ],
   "source": [
    "SEED = 4\n",
    "# models\n",
    "models = [XGBRegressor(),\n",
    "          DecisionTreeRegressor(),\n",
    "          RandomForestRegressor(),\n",
    "          AdaBoostRegressor(),\n",
    "         GradientBoostingRegressor()]\n",
    "\n",
    "# models parameters\n",
    "xgb_params = {'objective':['reg:squarederror'],\n",
    "                  'learning_rate': [0.05, 1],\n",
    "                  'max_depth': range(3, 10),\n",
    "                  'min_child_weight': range(5, 10),\n",
    "                  'reg_lambda':[1.5],\n",
    "                  'seed': [SEED]}\n",
    "\n",
    "dectree_params = {'max_features': range(4, 10),\n",
    "                  'max_depth': range(3, 6),\n",
    "                  'min_samples_leaf': range(5, 10),\n",
    "                  'random_state': [SEED]}\n",
    "\n",
    "randomforest_params = {'max_features': range(4, 10),\n",
    "                  'n_estimators': [50, 100],\n",
    "                  'max_depth': range(3, 6),\n",
    "                  'min_samples_leaf': range(5, 10),\n",
    "                  'random_state': [SEED]}\n",
    "\n",
    "adab_params = {'learning_rate': [0.05, 1],\n",
    "                  'n_estimators': [50, 100],\n",
    "                  'loss':['linear', 'square'],\n",
    "                  'random_state': [SEED]}\n",
    "\n",
    "gb_params = {'learning_rate': [0.05, 1],\n",
    "                  'n_estimators': [50, 100],\n",
    "                  'max_depth': range(3, 6),\n",
    "                'max_features': range(4, 10),\n",
    "                  'random_state': [SEED]}\n",
    "\n",
    "params = [xgb_params, dectree_params, randomforest_params, adab_params, gb_params]\n",
    "names = ['XGB_Regressor', 'DecisionTree_Regressor', 'RandomForest_Regressor', 'AdaBoost_Regressor',\n",
    "        'GradientBoosting_Regressor']\n",
    "scores = {}\n",
    "\n",
    "# gridsearch\n",
    "for i, model in enumerate(models):\n",
    "    print(f\"Grid-Searching for model {names[i]}...\")\n",
    "    best_model = GridSearchCV(model, params[i], n_jobs=4, cv=5, \n",
    "                              scoring='neg_mean_squared_error', verbose = 0)\n",
    "    best_model.fit(X_train, y_train)\n",
    "    print(f\"Best model fitted\")\n",
    "   \n",
    "\n",
    "    models[i].set_params(**best_model.best_params_)\n",
    "    \n"
   ]
  },
  {
   "cell_type": "code",
   "execution_count": 79,
   "metadata": {},
   "outputs": [
    {
     "data": {
      "text/plain": [
       "[XGBRegressor(base_score=None, booster=None, colsample_bylevel=None,\n",
       "              colsample_bynode=None, colsample_bytree=None,\n",
       "              enable_categorical=False, gamma=None, gpu_id=None,\n",
       "              importance_type=None, interaction_constraints=None,\n",
       "              learning_rate=0.05, max_delta_step=None, max_depth=6,\n",
       "              min_child_weight=5, missing=nan, monotone_constraints=None,\n",
       "              n_estimators=100, n_jobs=None, num_parallel_tree=None,\n",
       "              predictor=None, random_state=None, reg_alpha=None, reg_lambda=1.5,\n",
       "              scale_pos_weight=None, seed=4, subsample=None, tree_method=None,\n",
       "              validate_parameters=None, verbosity=None),\n",
       " DecisionTreeRegressor(max_depth=5, max_features=8, min_samples_leaf=9,\n",
       "                       random_state=4),\n",
       " RandomForestRegressor(max_depth=5, max_features=9, min_samples_leaf=6,\n",
       "                       random_state=4),\n",
       " AdaBoostRegressor(learning_rate=0.05, random_state=4),\n",
       " GradientBoostingRegressor(learning_rate=0.05, max_depth=5, max_features=9,\n",
       "                           random_state=4)]"
      ]
     },
     "execution_count": 79,
     "metadata": {},
     "output_type": "execute_result"
    }
   ],
   "source": [
    "models"
   ]
  },
  {
   "cell_type": "markdown",
   "metadata": {},
   "source": [
    "I tried each models with their best parameter using .predict function.Because of time constrain, I uploaded predictions to the kaggle. Kaggle gave best solution with XGBRegressor. So, I continued with that algorithm. \n",
    "\n",
    "\n",
    "Otherwise It can be decided with train test split. We can measure how good is with MSE."
   ]
  },
  {
   "cell_type": "code",
   "execution_count": 81,
   "metadata": {},
   "outputs": [],
   "source": [
    "final_model=XGBRegressor(learning_rate=0.05, max_delta_step=None, max_depth=6,\n",
    "              min_child_weight=5,n_estimators=100, reg_lambda=1.5, seed=4)"
   ]
  },
  {
   "cell_type": "code",
   "execution_count": 82,
   "metadata": {},
   "outputs": [
    {
     "data": {
      "text/plain": [
       "XGBRegressor(base_score=0.5, booster='gbtree', colsample_bylevel=1,\n",
       "             colsample_bynode=1, colsample_bytree=1, enable_categorical=False,\n",
       "             gamma=0, gpu_id=-1, importance_type=None,\n",
       "             interaction_constraints='', learning_rate=0.05, max_delta_step=0,\n",
       "             max_depth=6, min_child_weight=5, missing=nan,\n",
       "             monotone_constraints='()', n_estimators=100, n_jobs=8,\n",
       "             num_parallel_tree=1, predictor='auto', random_state=4, reg_alpha=0,\n",
       "             reg_lambda=1.5, scale_pos_weight=1, seed=4, subsample=1,\n",
       "             tree_method='exact', validate_parameters=1, verbosity=None)"
      ]
     },
     "execution_count": 82,
     "metadata": {},
     "output_type": "execute_result"
    }
   ],
   "source": [
    "final_model.fit(X_train,y_train)"
   ]
  },
  {
   "cell_type": "code",
   "execution_count": 86,
   "metadata": {},
   "outputs": [],
   "source": [
    "y_hat2 = final_model.predict(X_test)"
   ]
  },
  {
   "cell_type": "code",
   "execution_count": 87,
   "metadata": {},
   "outputs": [],
   "source": [
    "#submitting for Kaggle\n",
    "test_predictions_submit = pd.DataFrame({\"icustay_id\": test_id[\"icustay_id\"], \"LOS\": y_hat2})\n",
    "test_predictions_submit.to_csv(\"test_predictions_submit_dt.csv\", index = False)"
   ]
  },
  {
   "cell_type": "markdown",
   "metadata": {},
   "source": [
    "Feature Importance"
   ]
  },
  {
   "cell_type": "code",
   "execution_count": 88,
   "metadata": {},
   "outputs": [],
   "source": [
    "def feature_imp(coef, names):\n",
    "    imp = coef\n",
    "    indexes = np.argsort(imp)[-11:]\n",
    "    indexes = list(indexes)\n",
    "    \n",
    "    plt.barh(range(len(indexes)), imp[indexes], align='center')\n",
    "    plt.yticks(range(len(indexes)), [names[i] for i in indexes])\n",
    "    plt.show()\n",
    "    \n",
    "    return indexes"
   ]
  },
  {
   "cell_type": "code",
   "execution_count": 89,
   "metadata": {},
   "outputs": [],
   "source": [
    "feature_names = X_train.columns"
   ]
  },
  {
   "cell_type": "code",
   "execution_count": 91,
   "metadata": {},
   "outputs": [
    {
     "data": {
      "image/png": "[encoded data removed]",
      "text/plain": [
       "<Figure size 720x504 with 1 Axes>"
      ]
     },
     "metadata": {},
     "output_type": "display_data"
    }
   ],
   "source": [
    "import matplotlib.pylab as plt\n",
    "xgb_opt = models[0].fit(X_train, y_train)\n",
    "feat_indexes_xgb = feature_imp(abs(xgb_opt.feature_importances_), feature_names)"
   ]
  },
  {
   "cell_type": "markdown",
   "metadata": {},
   "source": [
    "The features which are shown as numerical values are our categorical values. (Transform method changed names of columns as numerical order). In here 2 is ADMISSION_TYPE"
   ]
  },
  {
   "cell_type": "code",
   "execution_count": 94,
   "metadata": {},
   "outputs": [
    {
     "name": "stderr",
     "output_type": "stream",
     "text": [
      "C:\\Users\\FDN-Aysu\\anaconda3\\lib\\site-packages\\sklearn\\utils\\validation.py:1675: FutureWarning: Feature names only support names that are all strings. Got feature names with dtypes: ['int', 'str']. An error will be raised in 1.2.\n",
      "  warnings.warn(\n"
     ]
    },
    {
     "data": {
      "image/png": "[encoded data removed]",
      "text/plain": [
       "<Figure size 720x504 with 1 Axes>"
      ]
     },
     "metadata": {},
     "output_type": "display_data"
    }
   ],
   "source": [
    "dectree_opt = models[1].fit(X_train, y_train)\n",
    "feat_indexes_xgb = feature_imp(abs(dectree_opt.feature_importances_), feature_names)"
   ]
  },
  {
   "cell_type": "code",
   "execution_count": 95,
   "metadata": {},
   "outputs": [
    {
     "name": "stderr",
     "output_type": "stream",
     "text": [
      "C:\\Users\\FDN-Aysu\\anaconda3\\lib\\site-packages\\sklearn\\utils\\validation.py:1675: FutureWarning: Feature names only support names that are all strings. Got feature names with dtypes: ['int', 'str']. An error will be raised in 1.2.\n",
      "  warnings.warn(\n"
     ]
    },
    {
     "data": {
      "image/png": "[encoded data removed]",
      "text/plain": [
       "<Figure size 720x504 with 1 Axes>"
      ]
     },
     "metadata": {},
     "output_type": "display_data"
    }
   ],
   "source": [
    "randomforest_opt = models[2].fit(X_train, y_train)\n",
    "feat_indexes_xgb = feature_imp(abs(randomforest_opt.feature_importances_), feature_names)"
   ]
  },
  {
   "cell_type": "code",
   "execution_count": 96,
   "metadata": {},
   "outputs": [
    {
     "name": "stderr",
     "output_type": "stream",
     "text": [
      "C:\\Users\\FDN-Aysu\\anaconda3\\lib\\site-packages\\sklearn\\utils\\validation.py:1675: FutureWarning: Feature names only support names that are all strings. Got feature names with dtypes: ['int', 'str']. An error will be raised in 1.2.\n",
      "  warnings.warn(\n"
     ]
    },
    {
     "data": {
      "image/png": "[encoded data removed]",
      "text/plain": [
       "<Figure size 720x504 with 1 Axes>"
      ]
     },
     "metadata": {},
     "output_type": "display_data"
    }
   ],
   "source": [
    "adab_opt = models[3].fit(X_train, y_train)\n",
    "feat_indexes_adab = feature_imp(abs(adab_opt.feature_importances_), feature_names)"
   ]
  },
  {
   "cell_type": "code",
   "execution_count": null,
   "metadata": {},
   "outputs": [],
   "source": []
  }
 ],
 "metadata": {
  "kernelspec": {
   "display_name": "Python 3",
   "language": "python",
   "name": "python3"
  },
  "language_info": {
   "codemirror_mode": {
    "name": "ipython",
    "version": 3
   },
   "file_extension": ".py",
   "mimetype": "text/x-python",
   "name": "python",
   "nbconvert_exporter": "python",
   "pygments_lexer": "ipython3",
   "version": "3.8.3"
  },
  "toc": {
   "base_numbering": 1,
   "nav_menu": {},
   "number_sections": true,
   "sideBar": true,
   "skip_h1_title": false,
   "title_cell": "Table of Contents",
   "title_sidebar": "Contents",
   "toc_cell": false,
   "toc_position": {},
   "toc_section_display": true,
   "toc_window_display": true
  }
 },
 "nbformat": 4,
 "nbformat_minor": 2
}
